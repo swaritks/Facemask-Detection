{
 "cells": [
  {
   "cell_type": "markdown",
   "id": "b216e6d3",
   "metadata": {},
   "source": [
    "# Facemask Detection Model Documentation\n",
    "This notebook documents the workflow for building, training, evaluating, and deploying a facemask detection model using a Convolutional Neural Network (CNN) in PyTorch."
   ]
  },
  {
   "cell_type": "markdown",
   "id": "f696f047",
   "metadata": {},
   "source": [
    "## 1. Introduction & Overview\n",
    "\n",
    "This notebook provides a comprehensive walkthrough of our CNN-based face mask detection model. We'll explore the dataset, understand the model architecture, analyze the training process, and evaluate performance.\n",
    "\n",
    "**What you'll learn**\n",
    "\n",
    "- Dataset characteristics and preprocessing\n",
    "- CNN architecture design choices\n",
    "- Training methodology and optimization\n",
    "- Model performance evaluation and analysis\n",
    "\n",
    "**Project Structure:**\n",
    "\n",
    "- `src/`: Source code for data handling, training, evaluation, and live detection\n",
    "- `models/`: Model definition and saved weights\n",
    "- `data/`: Organized dataset (with_mask/without_mask)\n",
    "- `notebooks/`: Documentation and demo notebooks\n",
    "- `requirements.txt`: Dependencies\n",
    "- `README.md`: Project instructions"
   ]
  },
  {
   "cell_type": "markdown",
   "id": "65603c86",
   "metadata": {},
   "source": [
    "## 2. Dataset Exploration\n",
    "\n",
    "We use the [Face-Mask-Detection Dataset](https://huggingface.co/datasets/DamarJati/Face-Mask-Detection) from Hugging Face."
   ]
  },
  {
   "cell_type": "markdown",
   "id": "567bd5f6",
   "metadata": {},
   "source": [
    "### Importing the Libraries"
   ]
  },
  {
   "cell_type": "markdown",
   "id": "6d551602",
   "metadata": {},
   "source": [
    "Firstly, we will run the following code block to import libraries necessary for analyzing the dataset and running the code:"
   ]
  },
  {
   "cell_type": "code",
   "execution_count": 1,
   "id": "d52a445f",
   "metadata": {},
   "outputs": [
    {
     "name": "stderr",
     "output_type": "stream",
     "text": [
      "c:\\Users\\Swarit Kumar Singh\\OneDrive\\Desktop\\Projects\\Facemask-Detection\\venv\\Lib\\site-packages\\tqdm\\auto.py:21: TqdmWarning: IProgress not found. Please update jupyter and ipywidgets. See https://ipywidgets.readthedocs.io/en/stable/user_install.html\n",
      "  from .autonotebook import tqdm as notebook_tqdm\n"
     ]
    }
   ],
   "source": [
    "from datasets import load_dataset                   # loads the dataset\n",
    "import matplotlib.pyplot as plt                     # for plotting\n",
    "import random                                       # for selecting random samples"
   ]
  },
  {
   "cell_type": "markdown",
   "id": "409c55a2",
   "metadata": {},
   "source": [
    "After importing the libaries, we will load the dataset and then inspect it's structure:"
   ]
  },
  {
   "cell_type": "code",
   "execution_count": 2,
   "id": "928de00f",
   "metadata": {},
   "outputs": [
    {
     "data": {
      "text/plain": [
       "DatasetDict({\n",
       "    train: Dataset({\n",
       "        features: ['image', 'label'],\n",
       "        num_rows: 11792\n",
       "    })\n",
       "})"
      ]
     },
     "execution_count": 2,
     "metadata": {},
     "output_type": "execute_result"
    }
   ],
   "source": [
    "dataset = load_dataset(\"DamarJati/Face-Mask-Detection\")\n",
    "\n",
    "dataset"
   ]
  },
  {
   "cell_type": "markdown",
   "id": "f478f18c",
   "metadata": {},
   "source": [
    "From this, we can see that the dataset in question has two features:\n",
    "\n",
    "- 'image'\n",
    "- 'label'\n",
    "\n",
    "Additionally, we can see that it has 11792 rows of data."
   ]
  },
  {
   "cell_type": "markdown",
   "id": "59f34318",
   "metadata": {},
   "source": [
    "To further gauge the data, we will look at the very first sample in the dataset by running the following lines of code:"
   ]
  },
  {
   "cell_type": "code",
   "execution_count": 3,
   "id": "eda4dbd8",
   "metadata": {},
   "outputs": [
    {
     "name": "stdout",
     "output_type": "stream",
     "text": [
      "{'image': <PIL.PngImagePlugin.PngImageFile image mode=RGB size=36x36 at 0x25684A87E00>, 'label': 0}\n"
     ]
    }
   ],
   "source": [
    "sample = dataset[\"train\"][0]\n",
    "print(sample)"
   ]
  },
  {
   "cell_type": "code",
   "execution_count": 4,
   "id": "74f0d47c",
   "metadata": {},
   "outputs": [
    {
     "name": "stdout",
     "output_type": "stream",
     "text": [
      "Label: 0\n"
     ]
    }
   ],
   "source": [
    "sample[\"image\"].show()\n",
    "print(\"Label:\", sample[\"label\"])"
   ]
  },
  {
   "cell_type": "markdown",
   "id": "b2ce857d",
   "metadata": {},
   "source": [
    "This tells us that the first image has a label of **0**, meaning that it is an image of an individual with a mask on."
   ]
  },
  {
   "cell_type": "markdown",
   "id": "5b069dd4",
   "metadata": {},
   "source": [
    "We can further view 5 random samples from the dataset by running the following lines of code:"
   ]
  },
  {
   "cell_type": "code",
   "execution_count": 5,
   "id": "3d88cb2d",
   "metadata": {},
   "outputs": [],
   "source": [
    "indices = random.sample(range(len(dataset[\"train\"])), 5)\n",
    "samples = [dataset[\"train\"][i] for i in indices]"
   ]
  },
  {
   "cell_type": "code",
   "execution_count": 6,
   "id": "a8bbb241",
   "metadata": {},
   "outputs": [
    {
     "name": "stdout",
     "output_type": "stream",
     "text": [
      "Label: without_mask\n",
      "Label: with_mask\n",
      "Label: with_mask\n",
      "Label: with_mask\n",
      "Label: without_mask\n"
     ]
    }
   ],
   "source": [
    "label_map = {0: \"with_mask\", 1: \"without_mask\"}\n",
    "\n",
    "for s in samples:\n",
    "    s[\"image\"].show()\n",
    "    print(\"Label:\", label_map[s[\"label\"]])\n"
   ]
  },
  {
   "cell_type": "markdown",
   "id": "a1ad5db0",
   "metadata": {},
   "source": [
    "Our random image search leads us to find images that are in both classes (in some cases, the code might run and show images from a singular class)."
   ]
  },
  {
   "cell_type": "markdown",
   "id": "4e409b2e",
   "metadata": {},
   "source": [
    "We can run the following lines of code to plot the data (prior to cleaning), and visualize what we're looking at here."
   ]
  },
  {
   "cell_type": "code",
   "execution_count": 7,
   "id": "83d1e715",
   "metadata": {},
   "outputs": [],
   "source": [
    "indices = random.sample(range(len(dataset[\"train\"])), 100)\n",
    "subset = dataset[\"train\"].select(indices)\n",
    "labels = [example[\"label\"] for example in subset]\n"
   ]
  },
  {
   "cell_type": "code",
   "execution_count": 8,
   "id": "a07bbeab",
   "metadata": {},
   "outputs": [
    {
     "data": {
      "image/png": "[encoded data removed]",
      "text/plain": [
       "<Figure size 640x480 with 1 Axes>"
      ]
     },
     "metadata": {},
     "output_type": "display_data"
    }
   ],
   "source": [
    "plt.hist(labels, bins=2, edgecolor='black')\n",
    "plt.xticks([0, 1], [\"with_mask\", \"without_mask\"])\n",
    "plt.title(\"Class Distribution (100 Random Samples)\")\n",
    "plt.xlabel(\"Label\")\n",
    "plt.ylabel(\"Count\")\n",
    "plt.show()"
   ]
  },
  {
   "cell_type": "markdown",
   "id": "408c3c24",
   "metadata": {},
   "source": [
    "Through the plot, we can see a fairly even distribution of class magnitude (with_mask and without_mask). A few things to note:\n",
    "- Plot was ran with 100 random samples (out of approximately 12000) to save time\n",
    "- Plot may differ with each run of randomizer"
   ]
  },
  {
   "cell_type": "markdown",
   "id": "b1a4917c",
   "metadata": {},
   "source": [
    "Another thing is that, if it wasn't obvious before, it becomes immediately obvious that this is a binary classification dataset."
   ]
  },
  {
   "cell_type": "markdown",
   "id": "5f5204b6",
   "metadata": {},
   "source": [
    "## 3. Preparing the Dataset for Model Training"
   ]
  },
  {
   "cell_type": "markdown",
   "id": "77b1e38a",
   "metadata": {},
   "source": [
    "First, we will call 'dataset' to see if splits within the data already exist for 'train' and 'test'"
   ]
  },
  {
   "cell_type": "code",
   "execution_count": 9,
   "id": "f598c1d5",
   "metadata": {},
   "outputs": [
    {
     "data": {
      "text/plain": [
       "DatasetDict({\n",
       "    train: Dataset({\n",
       "        features: ['image', 'label'],\n",
       "        num_rows: 11792\n",
       "    })\n",
       "})"
      ]
     },
     "execution_count": 9,
     "metadata": {},
     "output_type": "execute_result"
    }
   ],
   "source": [
    "dataset"
   ]
  },
  {
   "cell_type": "markdown",
   "id": "b49e04ba",
   "metadata": {},
   "source": [
    "Since there's only a 'train' split, we will create the test split ourselves."
   ]
  },
  {
   "cell_type": "code",
   "execution_count": 10,
   "id": "740eff74",
   "metadata": {},
   "outputs": [],
   "source": [
    "split_dataset = dataset[\"train\"].train_test_split(test_size=0.2, seed=42)"
   ]
  },
  {
   "cell_type": "markdown",
   "id": "59547117",
   "metadata": {},
   "source": [
    "This splits the model into: \n",
    "- 80% for Training\n",
    "- 20% for Testing (Splitting this again later)"
   ]
  },
  {
   "cell_type": "code",
   "execution_count": 11,
   "id": "5841e05a",
   "metadata": {},
   "outputs": [],
   "source": [
    "val_test = split_dataset[\"test\"].train_test_split(test_size=0.5, seed=42)\n"
   ]
  },
  {
   "cell_type": "markdown",
   "id": "eff2deb8",
   "metadata": {},
   "source": [
    "This has split the testing split evenly into a test and validation set."
   ]
  },
  {
   "cell_type": "markdown",
   "id": "0c347a66",
   "metadata": {},
   "source": [
    "Finally, we will combine the splits into a complete dataset using a DatasetDict, which will allow us to organize our splits into a clean structure."
   ]
  },
  {
   "cell_type": "code",
   "execution_count": 12,
   "id": "93699d5f",
   "metadata": {},
   "outputs": [],
   "source": [
    "from datasets import DatasetDict\n",
    "\n",
    "final_dataset = DatasetDict({\n",
    "    \"train\": split_dataset[\"train\"],\n",
    "    \"valid\": val_test[\"train\"],\n",
    "    \"test\": val_test[\"test\"]\n",
    "})"
   ]
  },
  {
   "cell_type": "code",
   "execution_count": 13,
   "id": "0d47893c",
   "metadata": {},
   "outputs": [
    {
     "data": {
      "text/plain": [
       "DatasetDict({\n",
       "    train: Dataset({\n",
       "        features: ['image', 'label'],\n",
       "        num_rows: 9433\n",
       "    })\n",
       "    valid: Dataset({\n",
       "        features: ['image', 'label'],\n",
       "        num_rows: 1179\n",
       "    })\n",
       "    test: Dataset({\n",
       "        features: ['image', 'label'],\n",
       "        num_rows: 1180\n",
       "    })\n",
       "})"
      ]
     },
     "execution_count": 13,
     "metadata": {},
     "output_type": "execute_result"
    }
   ],
   "source": [
    "final_dataset"
   ]
  },
  {
   "cell_type": "markdown",
   "id": "3149e01e",
   "metadata": {},
   "source": [
    "Our inspection shows us the number of values in each split."
   ]
  },
  {
   "cell_type": "markdown",
   "id": "57069e0b",
   "metadata": {},
   "source": [
    "### Image Preprocessing\n",
    "We will now resize all images to the same shape to prepare them for model training.\n",
    "Many standard deep learning models expect inputs of shape (224, 224).  \n",
    "We will also convert all images to NumPy arrays for compatibility with PyTorch or TensorFlow later."
   ]
  },
  {
   "cell_type": "code",
   "execution_count": 14,
   "id": "6a220ab9",
   "metadata": {},
   "outputs": [],
   "source": [
    "from PIL import Image                   # lets us resize images\n",
    "import numpy as np                      # used to convert images to arrays"
   ]
  },
  {
   "cell_type": "markdown",
   "id": "c33d3b90",
   "metadata": {},
   "source": [
    "For the purposes of the demo in this Jupyter notebook, we will shrink our splits to 100 values each to speed things up:"
   ]
  },
  {
   "cell_type": "code",
   "execution_count": 22,
   "id": "14e63e56",
   "metadata": {},
   "outputs": [],
   "source": [
    "for split in final_dataset:\n",
    "    final_dataset[split] = final_dataset[split].shuffle(seed=42).select(range(100))"
   ]
  },
  {
   "cell_type": "markdown",
   "id": "21b7fd0a",
   "metadata": {},
   "source": [
    "Firstly, we will define a pre-processing function which:\n",
    "\n",
    "- Resizes each image to 224 x 224 pixels\n",
    "- Converts the image to a NumPy array\n",
    "- Returns the modified example"
   ]
  },
  {
   "cell_type": "code",
   "execution_count": 23,
   "id": "bc828d8f",
   "metadata": {},
   "outputs": [],
   "source": [
    "def preprocess(example):\n",
    "    image = example[\"image\"].resize((224, 224))\n",
    "    example[\"image\"] = np.array(image)\n",
    "    return example"
   ]
  },
  {
   "cell_type": "markdown",
   "id": "fc125b10",
   "metadata": {},
   "source": [
    "We will now apply the pre-processing to our train datasplit (it will take to long to run it on all of the splits, so we will run it on a random sample of 100 images from our train datasplit):"
   ]
  },
  {
   "cell_type": "code",
   "execution_count": 24,
   "id": "03df5e41",
   "metadata": {},
   "outputs": [],
   "source": [
    "final_dataset[\"train\"] = final_dataset[\"train\"].shuffle(seed=42).select(range(100))"
   ]
  },
  {
   "cell_type": "markdown",
   "id": "f9763649",
   "metadata": {},
   "source": [
    "🧠 4. Modeling with PyTorch\n",
    "\n",
    "We will now build a simple image classification model using PyTorch.  \n",
    "Our goal is to classify images as either **\"with_mask\"** or **\"without_mask\"**."
   ]
  },
  {
   "cell_type": "code",
   "execution_count": 39,
   "id": "c490d6bf",
   "metadata": {},
   "outputs": [],
   "source": [
    "import torch \n",
    "import torch.nn as nn\n",
    "import torch.nn.functional as F\n",
    "\n",
    "class CNN(nn.Module):                        # Ultimately, the CNN is an object\n",
    "    def __init__(self):\n",
    "        super(CNN, self).__init__()\n",
    "\n",
    "        self.conv1 = nn.Conv2d(in_channels=3, out_channels=32, kernel_size=3, padding=1)            # first convolutional layer\n",
    "        self.conv2 = nn.Conv2d(in_channels=32, out_channels=64, kernel_size=3, padding=1)           # second convolutional layer\n",
    "        self.pool = nn.MaxPool2d(kernel_size=2, stride=2)\n",
    "        self.fc1 = nn.Linear(64 * 56 * 56, 128)\n",
    "        self.fc2 = nn.Linear(128, 2)    \n",
    "\n",
    "    def forward(self, x):\n",
    "        x = self.pool(F.relu(self.conv1(x)))\n",
    "        x = self.pool(F.relu(self.conv2(x)))\n",
    "        x = x.view(-1, 64 * 56 * 56)\n",
    "\n",
    "        x = F.relu(self.fc1(x))\n",
    "        x = self.fc2(x)\n",
    "        return x"
   ]
  },
  {
   "cell_type": "markdown",
   "id": "19f8836e",
   "metadata": {},
   "source": [
    "Next, we will convert out Hugging Face dataset to a PyTorch format:"
   ]
  },
  {
   "cell_type": "code",
   "execution_count": 45,
   "id": "d4a3eec9",
   "metadata": {},
   "outputs": [],
   "source": [
    "from torch.utils.data import Dataset\n",
    "from PIL import Image\n",
    "\n",
    "class MaskDataset(Dataset):\n",
    "    def __init__(self, hf_dataset):\n",
    "        self.images = hf_dataset[\"image\"]\n",
    "        self.labels = hf_dataset[\"label\"]\n",
    "\n",
    "    def __len__(self):\n",
    "        return len(self.labels)\n",
    "\n",
    "    def __getitem__(self, idx):\n",
    "        img = self.images[idx].resize((224, 224))     # force resize now\n",
    "        img = torch.tensor(np.array(img), dtype=torch.float32).permute(2, 0, 1)\n",
    "        label = torch.tensor(self.labels[idx], dtype=torch.long)\n",
    "        return img, label"
   ]
  },
  {
   "cell_type": "markdown",
   "id": "b85b653d",
   "metadata": {},
   "source": [
    "- permute(2, 0, 1) converts images from (H, W, C) to (C, H, W), which PyTorch expects\n",
    "- This prepares each sample as (image_tensor, label)"
   ]
  },
  {
   "cell_type": "markdown",
   "id": "ad4f02ff",
   "metadata": {},
   "source": [
    "Following that, we will now create Data Loaders:"
   ]
  },
  {
   "cell_type": "code",
   "execution_count": 46,
   "id": "bbfefc73",
   "metadata": {},
   "outputs": [],
   "source": [
    "from torch.utils.data import DataLoader\n",
    "\n",
    "train_loader = DataLoader(MaskDataset(final_dataset[\"train\"]), batch_size=16, shuffle=True)\n",
    "valid_loader = DataLoader(MaskDataset(final_dataset[\"valid\"]), batch_size=16)\n",
    "test_loader = DataLoader(MaskDataset(final_dataset[\"test\"]), batch_size=16)"
   ]
  },
  {
   "cell_type": "markdown",
   "id": "42278621",
   "metadata": {},
   "source": [
    "- batch_size=16: processes 16 images at once\n",
    "- shuffle=True: only for training (to randomize batches)"
   ]
  },
  {
   "cell_type": "markdown",
   "id": "d7b88d20",
   "metadata": {},
   "source": [
    "We will now set up our model, our optimizer, and also set our rate of loss:"
   ]
  },
  {
   "cell_type": "code",
   "execution_count": 47,
   "id": "0feffad0",
   "metadata": {},
   "outputs": [],
   "source": [
    "model = CNN()\n",
    "optimizer = torch.optim.Adam(model.parameters(), lr=0.001)\n",
    "criterion = nn.CrossEntropyLoss()"
   ]
  },
  {
   "cell_type": "markdown",
   "id": "adda0fad",
   "metadata": {},
   "source": [
    "- CNN() is the custom model\n",
    "\n",
    "- Adam is commonly used optimizer\n",
    "\n",
    "- CrossEntropyLoss is used for multi-class classification"
   ]
  },
  {
   "cell_type": "markdown",
   "id": "f029b56a",
   "metadata": {},
   "source": [
    "We will now set up a simple training loop for 1 epoch:"
   ]
  },
  {
   "cell_type": "code",
   "execution_count": 48,
   "id": "0a284fcf",
   "metadata": {},
   "outputs": [
    {
     "name": "stdout",
     "output_type": "stream",
     "text": [
      "1 training epoch complete.\n"
     ]
    }
   ],
   "source": [
    "model.train()\n",
    "for images, labels in train_loader:\n",
    "    outputs = model(images)\n",
    "    loss = criterion(outputs, labels)\n",
    "\n",
    "    optimizer.zero_grad()\n",
    "    loss.backward()\n",
    "    optimizer.step()\n",
    "\n",
    "print(\"1 training epoch complete.\")"
   ]
  },
  {
   "cell_type": "markdown",
   "id": "714cfd0f",
   "metadata": {},
   "source": [
    "## 5. Evaluation\n",
    "\n",
    "We will now evaluate the trained model's performance on the validation and test sets.\n",
    "Accuracy is calculated by comparing predicted labels with true labels.\n"
   ]
  },
  {
   "cell_type": "markdown",
   "id": "0bbac07f",
   "metadata": {},
   "source": [
    "> ⚠️ **Note:**  \n",
    "> The model was trained and evaluated on a reduced dataset (100 samples per split) for faster prototyping, therefore, the accuracy given below is exceedingly low.\n",
    "> When trained on the **full dataset**, the model achieves a validation accuracy of approximately **99%**."
   ]
  },
  {
   "cell_type": "code",
   "execution_count": 49,
   "id": "aa89e81f",
   "metadata": {},
   "outputs": [
    {
     "name": "stdout",
     "output_type": "stream",
     "text": [
      "Validation Accuracy: 67.00%\n"
     ]
    }
   ],
   "source": [
    "model.eval()\n",
    "correct = 0\n",
    "total = 0\n",
    "\n",
    "with torch.no_grad():\n",
    "    for images, labels in valid_loader:\n",
    "        outputs = model(images)\n",
    "        _, predicted = torch.max(outputs, 1)\n",
    "        correct += (predicted == labels).sum().item()\n",
    "        total += labels.size(0)\n",
    "\n",
    "accuracy = 100 * correct / total\n",
    "print(f\"Validation Accuracy: {accuracy:.2f}%\")"
   ]
  },
  {
   "cell_type": "markdown",
   "id": "7521e635",
   "metadata": {},
   "source": [
    "## 6. Next Steps\n",
    "\n",
    "To improve this project further:\n",
    "\n",
    "- Train on the **full dataset** (not just 100 samples) for much higher accuracy.\n",
    "- Add **image normalization** (e.g., scaling pixel values from 0–255 to 0–1).\n",
    "- Implement **data augmentation** to make the model more robust.\n",
    "- Track training and validation loss over multiple epochs.\n",
    "- Save the trained model and test it on real-world webcam input (live detection)."
   ]
  },
  {
   "cell_type": "markdown",
   "id": "fc0e2c15",
   "metadata": {},
   "source": [
    "**A walkthrough of how I created the real-world live detection is outlined on the LiveDetectionDocumentation.ipynb file** "
   ]
  }
 ],
 "metadata": {
  "kernelspec": {
   "display_name": "venv",
   "language": "python",
   "name": "python3"
  },
  "language_info": {
   "codemirror_mode": {
    "name": "ipython",
    "version": 3
   },
   "file_extension": ".py",
   "mimetype": "text/x-python",
   "name": "python",
   "nbconvert_exporter": "python",
   "pygments_lexer": "ipython3",
   "version": "3.12.10"
  }
 },
 "nbformat": 4,
 "nbformat_minor": 5
}
