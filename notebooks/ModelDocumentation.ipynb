{
 "cells": [
  {
   "cell_type": "code",
   "execution_count": 1,
   "id": "11ced438",
   "metadata": {},
   "outputs": [
    {
     "data": {
      "text/plain": [
       "{'with_mask': 0, 'without_mask': 1}"
      ]
     },
     "execution_count": 1,
     "metadata": {},
     "output_type": "execute_result"
    }
   ],
   "source": [
    "from torchvision.datasets import ImageFolder\n",
    "\n",
    "dataset = ImageFolder(\"../data\")\n",
    "dataset.class_to_idx"
   ]
  },
  {
   "cell_type": "code",
   "execution_count": 3,
   "id": "864d21a1",
   "metadata": {},
   "outputs": [
    {
     "name": "stdout",
     "output_type": "stream",
     "text": [
      "Class index to label: {'with_mask': 0, 'without_mask': 1}\n",
      "Image counts: Counter({1: 5909, 0: 5883})\n"
     ]
    }
   ],
   "source": [
    "from torchvision.datasets import ImageFolder\n",
    "from collections import Counter\n",
    "\n",
    "dataset = ImageFolder(\"../data\")\n",
    "labels = [label for _, label in dataset]\n",
    "counts = Counter(labels)\n",
    "\n",
    "print(\"Class index to label:\", dataset.class_to_idx)\n",
    "print(\"Image counts:\", counts)\n"
   ]
  }
 ],
 "metadata": {
  "kernelspec": {
   "display_name": "venv",
   "language": "python",
   "name": "python3"
  },
  "language_info": {
   "codemirror_mode": {
    "name": "ipython",
    "version": 3
   },
   "file_extension": ".py",
   "mimetype": "text/x-python",
   "name": "python",
   "nbconvert_exporter": "python",
   "pygments_lexer": "ipython3",
   "version": "3.12.10"
  }
 },
 "nbformat": 4,
 "nbformat_minor": 5
}
